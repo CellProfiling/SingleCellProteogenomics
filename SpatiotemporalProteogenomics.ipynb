{
 "cells": [
  {
   "cell_type": "code",
   "execution_count": 1,
   "metadata": {},
   "outputs": [
    {
     "ename": "ModuleNotFoundError",
     "evalue": "No module named 'utils'",
     "output_type": "error",
     "traceback": [
      "\u001b[1;31m---------------------------------------------------------------------------\u001b[0m",
      "\u001b[1;31mModuleNotFoundError\u001b[0m                       Traceback (most recent call last)",
      "\u001b[1;32m<ipython-input-1-38ac6be3ce44>\u001b[0m in \u001b[0;36m<module>\u001b[1;34m\u001b[0m\n\u001b[0;32m      1\u001b[0m \u001b[1;31m#%% Imports\u001b[0m\u001b[1;33m\u001b[0m\u001b[1;33m\u001b[0m\u001b[1;33m\u001b[0m\u001b[0m\n\u001b[0;32m      2\u001b[0m \u001b[1;32mfrom\u001b[0m \u001b[0mSingleCellProteogenomics\u001b[0m\u001b[1;33m.\u001b[0m\u001b[0mutils\u001b[0m \u001b[1;32mimport\u001b[0m \u001b[1;33m*\u001b[0m\u001b[1;33m\u001b[0m\u001b[1;33m\u001b[0m\u001b[0m\n\u001b[1;32m----> 3\u001b[1;33m \u001b[1;32mfrom\u001b[0m \u001b[0mSingleCellProteogenomics\u001b[0m \u001b[1;32mimport\u001b[0m \u001b[0mProteinDataPreparation\u001b[0m\u001b[1;33m,\u001b[0m \u001b[0mProteinGaussianClustering\u001b[0m\u001b[1;33m,\u001b[0m \u001b[0mProteinVariability\u001b[0m\u001b[1;33m,\u001b[0m \u001b[0mProteinFucciPseudotime\u001b[0m\u001b[1;33m\u001b[0m\u001b[1;33m\u001b[0m\u001b[0m\n\u001b[0m\u001b[0;32m      4\u001b[0m \u001b[1;32mimport\u001b[0m \u001b[0mnumpy\u001b[0m \u001b[1;32mas\u001b[0m \u001b[0mnp\u001b[0m\u001b[1;33m\u001b[0m\u001b[1;33m\u001b[0m\u001b[0m\n\u001b[0;32m      5\u001b[0m \u001b[1;32mimport\u001b[0m \u001b[0msklearn\u001b[0m\u001b[1;33m.\u001b[0m\u001b[0mmixture\u001b[0m\u001b[1;33m\u001b[0m\u001b[1;33m\u001b[0m\u001b[0m\n",
      "\u001b[1;32m~\\Documents\\Projects\\CellCycle\\FucciRNA\\SingleCellProteogenomics\\ProteinVariability.py\u001b[0m in \u001b[0;36m<module>\u001b[1;34m\u001b[0m\n\u001b[0;32m      6\u001b[0m \"\"\"\n\u001b[0;32m      7\u001b[0m \u001b[1;33m\u001b[0m\u001b[0m\n\u001b[1;32m----> 8\u001b[1;33m \u001b[1;32mfrom\u001b[0m \u001b[0mutils\u001b[0m \u001b[1;32mimport\u001b[0m \u001b[1;33m*\u001b[0m\u001b[1;33m\u001b[0m\u001b[1;33m\u001b[0m\u001b[0m\n\u001b[0m\u001b[0;32m      9\u001b[0m \u001b[1;32mimport\u001b[0m \u001b[0mnumpy\u001b[0m \u001b[1;32mas\u001b[0m \u001b[0mnp\u001b[0m\u001b[1;33m\u001b[0m\u001b[1;33m\u001b[0m\u001b[0m\n\u001b[0;32m     10\u001b[0m \u001b[1;32mimport\u001b[0m \u001b[0mscipy\u001b[0m\u001b[1;33m.\u001b[0m\u001b[0moptimize\u001b[0m\u001b[1;33m\u001b[0m\u001b[1;33m\u001b[0m\u001b[0m\n",
      "\u001b[1;31mModuleNotFoundError\u001b[0m: No module named 'utils'"
     ]
    }
   ],
   "source": [
    "#%% Imports\n",
    "from SingleCellProteogenomics.utils import *\n",
    "from SingleCellProteogenomics import ProteinDataPreparation, ProteinGaussianClustering, ProteinVariability, ProteinFucciPseudotime\n",
    "import numpy as np\n",
    "import sklearn.mixture\n",
    "plt.rcParams['pdf.fonttype'], plt.rcParams['ps.fonttype'], plt.rcParams['savefig.dpi'] = 42, 42, 300 #Make PDF text readable"
   ]
  },
  {
   "cell_type": "code",
   "execution_count": null,
   "metadata": {},
   "outputs": [],
   "source": [
    "#%% Read in the protein data (methods in ProteinDataPreparation.py)\n",
    "my_df = ProteinDataPreparation.read_raw_data()\n",
    "plate, u_plate, well_plate, well_plate_imgnb, u_well_plates, ab_objnum, area_cell, area_nuc, area_cyto, ensg_dict, ab_dict, result_dict, compartment_dict, ENSG, antibody, result, compartment = ProteinDataPreparation.read_sample_info(my_df)\n",
    "wp_ensg, wp_ab, wp_prev_ccd, wp_prev_notccd, wp_prev_negative, prev_ccd_ensg, prev_notccd_ensg, prev_negative_ensg = ProteinDataPreparation.previous_results(u_well_plates, result_dict, ensg_dict, ab_dict)\n"
   ]
  },
  {
   "cell_type": "code",
   "execution_count": null,
   "metadata": {},
   "outputs": [],
   "source": [
    "#%% Idea: Filter the raw data (methods in ProteinDataPreparation.py)\n",
    "# Execution: Use manual annotations and nucleus size to filter samples and images\n",
    "# Output: Filtered dataframe\n",
    "my_df_filtered = ProteinDataPreparation.apply_manual_filtering(my_df, result_dict, ab_dict)\n",
    "my_df_filtered = ProteinDataPreparation.apply_big_nucleus_filter(my_df_filtered)\n",
    "my_df_filtered = ProteinDataPreparation.apply_cell_count_filter(my_df_filtered)\n",
    "my_df_filtered.to_csv(\"input/processed/python/nuc_predicted_prob_phases_filtered.csv\")\n",
    "plate, u_plate, well_plate, well_plate_imgnb, u_well_plates, ab_objnum, area_cell, area_nuc, area_cyto, ensg_dict, ab_dict, result_dict, compartment_dict, ENSG, antibody, result, compartment = ProteinDataPreparation.read_sample_info(my_df_filtered)\n",
    "wp_ensg, wp_ab, wp_prev_ccd, wp_prev_notccd, wp_prev_negative, prev_ccd_ensg, prev_notccd_ensg, prev_negative_ensg = ProteinDataPreparation.previous_results(u_well_plates, result_dict, ensg_dict, ab_dict)\n"
   ]
  },
  {
   "cell_type": "code",
   "execution_count": null,
   "metadata": {},
   "outputs": [],
   "source": [
    "#%% Idea: Filter for variation and get compartments (methods in ProteinDataPreparation.py)\n",
    "# Execution: Use annotated variation and compartment information\n",
    "# Output: Number of cells filtered\n",
    "my_df_filtered_variation, my_df_filtered_novariation = ProteinDataPreparation.apply_variation_filter(my_df_filtered, result_dict, my_df)\n",
    "\n",
    "## Uncomment to output these dataframes (used for skewness / kurtosis analysis)\n",
    "# my_df_filtered_variation.to_csv(\"output/nuc_predicted_prob_phases_filtered_variation.csv\")\n",
    "# my_df_filtered_novariation.to_csv(\"output/nuc_predicted_prob_phases_filtered_novariation.csv\")\n",
    "\n",
    "# filter out the ones missing compartment information; these are localized to mitotic structures and handled differently\n",
    "plate, u_plate, well_plate, well_plate_imgnb, u_well_plates, ab_objnum, area_cell, area_nuc, area_cyto, ensg_dict, ab_dict, result_dict, compartment_dict, ENSG, antibody, result, compartment = ProteinDataPreparation.read_sample_info(my_df_filtered_variation)\n",
    "wp_iscell, wp_isnuc, wp_iscyto, my_df_filtered_compartmentvariation = ProteinDataPreparation.metacompartments(u_well_plates, compartment_dict, my_df_filtered_variation)\n",
    "\n",
    "# demonstrate that there are no more missing compartment information\n",
    "plate, u_plate, well_plate, well_plate_imgnb, u_well_plates, ab_objnum, area_cell, area_nuc, area_cyto, ensg_dict, ab_dict, result_dict, compartment_dict, ENSG, antibody, result, compartment = ProteinDataPreparation.read_sample_info(my_df_filtered_compartmentvariation)\n",
    "wp_iscell, wp_isnuc, wp_iscyto, my_df_filtered_compartmentvariation = ProteinDataPreparation.metacompartments(u_well_plates, compartment_dict, my_df_filtered_compartmentvariation)\n",
    "wp_ensg, wp_ab, wp_prev_ccd, wp_prev_notccd, wp_prev_negative, prev_ccd_ensg, prev_notccd_ensg, prev_negative_ensg = ProteinDataPreparation.previous_results(u_well_plates, result_dict, ensg_dict, ab_dict)\n"
   ]
  },
  {
   "cell_type": "code",
   "execution_count": null,
   "metadata": {},
   "outputs": [],
   "source": [
    "#%% Idea: Get and process intensities (methods in ProteinDataPreparation.py and ProteinGaussianClustering.py)\n",
    "# Execution: get intensities; zero center fucci intensities\n",
    "# Output: Fucci plot\n",
    "ab_nuc, ab_cyto, ab_cell, mt_cell, green_fucci, red_fucci = ProteinDataPreparation.read_sample_data(my_df_filtered_compartmentvariation)\n",
    "log_green_fucci, log_red_fucci, log_green_fucci_zeroc, log_red_fucci_zeroc, log_green_fucci_zeroc_rescale, log_red_fucci_zeroc_rescale, fucci_data = ProteinGaussianClustering.zero_center_fucci(green_fucci, red_fucci, u_plate, well_plate, plate)\n",
    "    \n",
    "plt.hist2d(log_green_fucci_zeroc_rescale,log_red_fucci_zeroc_rescale,bins=200)\n",
    "plt.xlabel(\"Log10 Green Fucci Intensity\")\n",
    "plt.ylabel(\"Log10 Red Fucci Intensity\")\n",
    "plt.savefig(\"figures/FucciPlotProteinIFData_unfiltered.png\")\n",
    "plt.show()\n",
    "plt.close()\n",
    "\n",
    "# General picture of antibody intensity density\n",
    "sbn.distplot(ab_cell, hist=False)\n",
    "plt.xlabel(\"Mean Intensity\")\n",
    "plt.ylabel(\"Density\")\n",
    "plt.savefig(\"figures/antibody_cell_intensity.pdf\")\n",
    "plt.show()\n",
    "plt.close()"
   ]
  },
  {
   "cell_type": "code",
   "execution_count": null,
   "metadata": {},
   "outputs": [],
   "source": [
    "#%% Idea: Gaussian clustering per plate to identify G1/S/G2 and do kruskal test for variance\n",
    "# Exec: sklearn.mixture.GaussianMixture & scipy.stats.kruskal\n",
    "# Output: FDR for cell cycle variation per well per compartment\n",
    "cluster_labels = ProteinGaussianClustering.gaussian_clustering(log_green_fucci_zeroc_rescale, log_red_fucci_zeroc_rescale)\n",
    "\n",
    "# NB! The cluster labels can change if any prior analysis changes. Inspect the plots so that top-left FUCCI cluster is G1, top-right is S, bottom-right is G2.\n",
    "g1, sph, g2 = cluster_labels == 2, cluster_labels == 1, cluster_labels == 0\n",
    "alpha_gauss, doGenerateBoxplotsPerGene = 0.05, True\n",
    "wp_comp_kruskal_gaussccd_adj, wp_pass_kruskal_gaussccd_bh_comp, wp_mt_kruskal_gaussccd_adj, wp_pass_gaussccd_bh_mt =  ProteinGaussianClustering.gaussian_clustering_analysis(alpha_gauss, doGenerateBoxplotsPerGene, g1, sph, g2, wp_ensg, well_plate, u_well_plates, ab_cell, ab_nuc, ab_cyto, mt_cell, wp_iscell, wp_isnuc, wp_iscyto)\n",
    "\n",
    "# General look at replicates in mock-bulk analysis\n",
    "ProteinGaussianClustering.address_replicates(alpha_gauss, wp_pass_kruskal_gaussccd_bh_comp, wp_ensg, wp_ab, u_well_plates)\n"
   ]
  },
  {
   "cell_type": "code",
   "execution_count": null,
   "metadata": {},
   "outputs": [],
   "source": [
    "#%% \n",
    "# Idea: Calculate the polar coordinates and other stuff\n",
    "# Exec: Devin's calculations\n",
    "# Output: fucci plot with polar coordinates\n",
    "\n",
    "ProteinFucciPseudotime.fucci_polar_coordinate_calculations(fucci_data, \n",
    "                           ab_nuc,ab_cyto,ab_cell,mt_cell,area_cell, area_nuc,well_plate,well_plate_imgnb, log_red_fucci_zeroc_rescale,log_green_fucci_zeroc_rescale)\n"
   ]
  },
  {
   "cell_type": "code",
   "execution_count": null,
   "metadata": {},
   "outputs": [],
   "source": [
    "#%% Calculate measures of variance of protein abundance in single cells\n",
    "# Idea: Calculate measures of variance, and show them in plots\n",
    "# Execution: Now that we already have the data filtered for variability, this is just descriptive.\n",
    "# Output: scatters of antibody vs microtubule variances by different measures of variaibility\n",
    "\n",
    "use_log = False # toggle for using log-transformed intensities; we decided to use natural intensities\n",
    "mean_mean_comp, var_comp, gini_comp, cv_comp, var_cell, gini_cell, cv_cell = ProteinVariability.calculate_variation(use_log, \n",
    "                                                u_well_plates, wp_iscell, wp_isnuc, wp_iscyto, \n",
    "                                                pol_sort_well_plate, pol_sort_ab_cell, pol_sort_ab_nuc, pol_sort_ab_cyto, pol_sort_mt_cell, pol_sort_well_plate_imgnb)\n",
    "\n",
    "# Compare variances for protein and microtubules, the internal control for each image\n",
    "general_boxplot((var_comp, var_mt), (\"Protein\", \"Microtubules\"), \"\", \"Variance\", \"\", False, f\"figures/ProteinMicrotubuleVariances.pdf\")\n",
    "general_boxplot((cv_comp, gini_mt), (\"Protein\", \"Microtubules\"), \"\", \"CV\", \"\", False, f\"figures/ProteinMicrotubuleCVs.pdf\")\n",
    "general_boxplot((gini_comp, gini_mt), (\"Protein\", \"Microtubules\"), \"\", \"Gini\", \"\", False, f\"figures/ProteinMicrotubuleGinis.pdf\")\n",
    "print(f\"{scipy.stats.kruskal(var_comp, var_mt)[1]}: p-value for difference between protein and microtubule variances\")\n",
    "print(f\"{scipy.stats.kruskal(cv_comp, gini_mt)[1]}: p-value for difference between protein and microtubule CVs\")\n",
    "print(f\"{scipy.stats.kruskal(gini_comp, gini_mt)[1]}: p-value for difference between protein and microtubule Gini indices\")\n"
   ]
  }
 ],
 "metadata": {
  "kernelspec": {
   "display_name": "Python 3",
   "language": "python",
   "name": "python3"
  },
  "language_info": {
   "codemirror_mode": {
    "name": "ipython",
    "version": 3
   },
   "file_extension": ".py",
   "mimetype": "text/x-python",
   "name": "python",
   "nbconvert_exporter": "python",
   "pygments_lexer": "ipython3",
   "version": "3.7.1"
  },
  "toc": {
   "base_numbering": 1,
   "nav_menu": {},
   "number_sections": true,
   "sideBar": true,
   "skip_h1_title": false,
   "title_cell": "Table of Contents",
   "title_sidebar": "Contents",
   "toc_cell": false,
   "toc_position": {},
   "toc_section_display": true,
   "toc_window_display": false
  }
 },
 "nbformat": 4,
 "nbformat_minor": 2
}
